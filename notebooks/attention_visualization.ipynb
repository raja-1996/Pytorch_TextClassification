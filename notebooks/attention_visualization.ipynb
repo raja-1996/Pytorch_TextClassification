{
 "cells": [
  {
   "cell_type": "code",
   "execution_count": 52,
   "metadata": {
    "collapsed": true,
    "pycharm": {
     "is_executing": false
    }
   },
   "outputs": [],
   "source": [
    "import pandas as pd\n",
    "import json"
   ]
  },
  {
   "cell_type": "code",
   "execution_count": 61,
   "outputs": [],
   "source": [
    "df = pd.read_csv('../Results/scores_test.csv')\n"
   ],
   "metadata": {
    "collapsed": false,
    "pycharm": {
     "name": "#%%\n",
     "is_executing": false
    }
   }
  },
  {
   "cell_type": "code",
   "execution_count": 62,
   "outputs": [
    {
     "data": {
      "text/plain": "   Unnamed: 0                                                Ids  \\\n0           0  [[564, 7219, 9, 326, 395, 2404, 5, 329, 339, 1...   \n1           1  [[518, 293, 897, 542, 15, 173, 7, 1878, 6016, ...   \n2           2  [[564, 7219, 658, 454, 645, 6325, 14287, 3289,...   \n3           3  [[80122, 8, 2, 2679, 231, 5, 79029, 2, 958, 5,...   \n4           4  [[564, 1355, 766, 9147, 12, 9, 128, 1364, 1368...   \n\n                                         Word_scores  \\\n0  [[0.024961110204458237, 0.02228728123009205, 0...   \n1  [[0.02761826105415821, 0.05825686827301979, 0....   \n2  [[0.0441364049911499, 0.04605996981263161, 0.0...   \n3  [[0.0326634906232357, 0.0310068279504776, 0.02...   \n4  [[0.033555012196302414, 0.032389868050813675, ...   \n\n                                         Sent_scores      pred      true  \n0  [0.5619245171546936, 0.43391481041908264, 0.0,...  business  business  \n1  [0.18703804910182953, 0.498861700296402, 0.114...  business  business  \n2           [0.9728700518608093, 0.0, 0.0, 0.0, 0.0]  business  business  \n3  [0.8258346915245056, 0.16658662259578705, 0.0,...  business  business  \n4  [0.18369369208812714, 0.08819526433944702, 0.3...  business  business  ",
      "text/html": "<div>\n<style scoped>\n    .dataframe tbody tr th:only-of-type {\n        vertical-align: middle;\n    }\n\n    .dataframe tbody tr th {\n        vertical-align: top;\n    }\n\n    .dataframe thead th {\n        text-align: right;\n    }\n</style>\n<table border=\"1\" class=\"dataframe\">\n  <thead>\n    <tr style=\"text-align: right;\">\n      <th></th>\n      <th>Unnamed: 0</th>\n      <th>Ids</th>\n      <th>Word_scores</th>\n      <th>Sent_scores</th>\n      <th>pred</th>\n      <th>true</th>\n    </tr>\n  </thead>\n  <tbody>\n    <tr>\n      <th>0</th>\n      <td>0</td>\n      <td>[[564, 7219, 9, 326, 395, 2404, 5, 329, 339, 1...</td>\n      <td>[[0.024961110204458237, 0.02228728123009205, 0...</td>\n      <td>[0.5619245171546936, 0.43391481041908264, 0.0,...</td>\n      <td>business</td>\n      <td>business</td>\n    </tr>\n    <tr>\n      <th>1</th>\n      <td>1</td>\n      <td>[[518, 293, 897, 542, 15, 173, 7, 1878, 6016, ...</td>\n      <td>[[0.02761826105415821, 0.05825686827301979, 0....</td>\n      <td>[0.18703804910182953, 0.498861700296402, 0.114...</td>\n      <td>business</td>\n      <td>business</td>\n    </tr>\n    <tr>\n      <th>2</th>\n      <td>2</td>\n      <td>[[564, 7219, 658, 454, 645, 6325, 14287, 3289,...</td>\n      <td>[[0.0441364049911499, 0.04605996981263161, 0.0...</td>\n      <td>[0.9728700518608093, 0.0, 0.0, 0.0, 0.0]</td>\n      <td>business</td>\n      <td>business</td>\n    </tr>\n    <tr>\n      <th>3</th>\n      <td>3</td>\n      <td>[[80122, 8, 2, 2679, 231, 5, 79029, 2, 958, 5,...</td>\n      <td>[[0.0326634906232357, 0.0310068279504776, 0.02...</td>\n      <td>[0.8258346915245056, 0.16658662259578705, 0.0,...</td>\n      <td>business</td>\n      <td>business</td>\n    </tr>\n    <tr>\n      <th>4</th>\n      <td>4</td>\n      <td>[[564, 1355, 766, 9147, 12, 9, 128, 1364, 1368...</td>\n      <td>[[0.033555012196302414, 0.032389868050813675, ...</td>\n      <td>[0.18369369208812714, 0.08819526433944702, 0.3...</td>\n      <td>business</td>\n      <td>business</td>\n    </tr>\n  </tbody>\n</table>\n</div>"
     },
     "metadata": {},
     "output_type": "execute_result",
     "execution_count": 62
    }
   ],
   "source": [
    "df.head(5)"
   ],
   "metadata": {
    "collapsed": false,
    "pycharm": {
     "name": "#%%\n",
     "is_executing": false
    }
   }
  },
  {
   "cell_type": "code",
   "execution_count": 63,
   "outputs": [],
   "source": [
    "import pickle\n",
    "path = '../Attention_Classification/Embeddings/word_index.pkl'\n",
    "with open(path, 'rb') as f:\n",
    "    word_index = pickle.load(f)"
   ],
   "metadata": {
    "collapsed": false,
    "pycharm": {
     "name": "#%%\n",
     "is_executing": false
    }
   }
  },
  {
   "cell_type": "code",
   "execution_count": 64,
   "outputs": [],
   "source": [
    "index_word = dict([(val, key) for key, val in word_index.items()])"
   ],
   "metadata": {
    "collapsed": false,
    "pycharm": {
     "name": "#%%\n",
     "is_executing": false
    }
   }
  },
  {
   "cell_type": "code",
   "execution_count": 65,
   "outputs": [],
   "source": [
    "def convert_id_token(list_):\n",
    "    list_ = eval(list_)\n",
    "    words = []\n",
    "    for sent in list_:\n",
    "        temp = [index_word[x] for x in sent]\n",
    "        words.extend(temp)\n",
    "    return words\n",
    "df['words'] = df['Ids'].apply(convert_id_token)"
   ],
   "metadata": {
    "collapsed": false,
    "pycharm": {
     "name": "#%%\n",
     "is_executing": false
    }
   }
  },
  {
   "cell_type": "code",
   "execution_count": 66,
   "outputs": [],
   "source": [
    "def convert_2d_to_1d(x):\n",
    "    x = eval(x)\n",
    "    scores = []\n",
    "    for each in x:\n",
    "        scores.extend(each)\n",
    "    return scores\n",
    "df['Word_scores_list'] = df['Word_scores'].apply(convert_2d_to_1d)"
   ],
   "metadata": {
    "collapsed": false,
    "pycharm": {
     "name": "#%%\n",
     "is_executing": false
    }
   }
  },
  {
   "cell_type": "code",
   "execution_count": 70,
   "outputs": [],
   "source": [
    "def get_dict(row):\n",
    "    dict = {'words' : row['words'],\n",
    "     'weights': row['Word_scores_list'],\n",
    "     'prediction': row['pred'],\n",
    "     'label': row['true']\n",
    "        \n",
    "        }\n",
    "    return dict\n",
    "df['words_dict'] = df[['words', 'Word_scores_list', 'pred', 'true']].apply(get_dict, axis=1)"
   ],
   "metadata": {
    "collapsed": false,
    "pycharm": {
     "name": "#%%\n",
     "is_executing": false
    }
   }
  },
  {
   "cell_type": "code",
   "execution_count": 71,
   "outputs": [],
   "source": [
    "words_dict = df['words_dict'].tolist()"
   ],
   "metadata": {
    "collapsed": false,
    "pycharm": {
     "name": "#%%\n",
     "is_executing": false
    }
   }
  },
  {
   "cell_type": "code",
   "execution_count": 78,
   "outputs": [],
   "source": [
    "with open('/Users/rajamohanreddybollavaram/Downloads/text-attn-vis-master/attentions.json', 'w') as f:\n",
    "    json.dump(words_dict, f)"
   ],
   "metadata": {
    "collapsed": false,
    "pycharm": {
     "name": "#%%\n",
     "is_executing": false
    }
   }
  },
  {
   "cell_type": "code",
   "execution_count": 73,
   "outputs": [],
   "source": [
    "def convert_id_token(list_):\n",
    "    list_ = eval(list_)\n",
    "    sents = []\n",
    "    for sent in list_:\n",
    "        temp = [index_word[x] for x in sent]\n",
    "        temp = ' '.join(temp)\n",
    "        sents.append(temp)\n",
    "    return sents\n",
    "df['sents'] = df['Ids'].apply(convert_id_token)"
   ],
   "metadata": {
    "collapsed": false,
    "pycharm": {
     "name": "#%%\n",
     "is_executing": false
    }
   }
  },
  {
   "cell_type": "code",
   "execution_count": 74,
   "outputs": [],
   "source": [
    "df['sent_scores_list'] = df['Sent_scores'].apply(lambda x: eval(x))"
   ],
   "metadata": {
    "collapsed": false,
    "pycharm": {
     "name": "#%%\n",
     "is_executing": false
    }
   }
  },
  {
   "cell_type": "code",
   "execution_count": 75,
   "outputs": [],
   "source": [
    "def get_dict(row):\n",
    "    dict = {'words' : row['sents'],\n",
    "     'weights': row['sent_scores_list'],\n",
    "      'prediction': row['pred'],\n",
    "     'label': row['true']\n",
    "            }\n",
    "    return dict\n",
    "df['sents_dict'] = df[['sents', 'sent_scores_list', 'pred', 'true']].apply(get_dict, axis=1)"
   ],
   "metadata": {
    "collapsed": false,
    "pycharm": {
     "name": "#%%\n",
     "is_executing": false
    }
   }
  },
  {
   "cell_type": "code",
   "execution_count": 76,
   "outputs": [],
   "source": [
    "sents_dict = df['sents_dict'].tolist()"
   ],
   "metadata": {
    "collapsed": false,
    "pycharm": {
     "name": "#%%\n",
     "is_executing": false
    }
   }
  },
  {
   "cell_type": "code",
   "execution_count": 77,
   "outputs": [],
   "source": [
    "with open('/Users/rajamohanreddybollavaram/Downloads/text-attn-vis-master/attentions.json', 'w') as f:\n",
    "    json.dump(sents_dict, f)"
   ],
   "metadata": {
    "collapsed": false,
    "pycharm": {
     "name": "#%%\n",
     "is_executing": false
    }
   }
  },
  {
   "cell_type": "code",
   "execution_count": 50,
   "outputs": [
    {
     "data": {
      "text/plain": "{'words': ['strong karachi a 20 member delegation of chinese companies on a visit to pakistan looked into the opportunities to develop a sister economic zone in sindh <unk> delegation comprising companies',\n  'they have very productive meetings with the board of investment sindh as well commenting on the prospects of joint business ventures vice chairman igea michael zhao said our visit is',\n  '<pad> <pad> <pad> <pad> <pad> <pad> <pad> <pad> <pad> <pad> <pad> <pad> <pad> <pad> <pad> <pad> <pad> <pad> <pad> <pad> <pad> <pad> <pad> <pad> <pad> <pad> <pad> <pad> <pad> <pad>',\n  '<pad> <pad> <pad> <pad> <pad> <pad> <pad> <pad> <pad> <pad> <pad> <pad> <pad> <pad> <pad> <pad> <pad> <pad> <pad> <pad> <pad> <pad> <pad> <pad> <pad> <pad> <pad> <pad> <pad> <pad>',\n  '<pad> <pad> <pad> <pad> <pad> <pad> <pad> <pad> <pad> <pad> <pad> <pad> <pad> <pad> <pad> <pad> <pad> <pad> <pad> <pad> <pad> <pad> <pad> <pad> <pad> <pad> <pad> <pad> <pad> <pad>'],\n 'weights': [0.7478883266448975, 0.23487813770771027, 0.0, 0.0, 0.0]}"
     },
     "metadata": {},
     "output_type": "execute_result",
     "execution_count": 50
    }
   ],
   "source": [],
   "metadata": {
    "collapsed": false,
    "pycharm": {
     "name": "#%%\n",
     "is_executing": false
    }
   }
  },
  {
   "cell_type": "code",
   "execution_count": null,
   "outputs": [],
   "source": [
    "\n"
   ],
   "metadata": {
    "collapsed": false,
    "pycharm": {
     "name": "#%%\n"
    }
   }
  }
 ],
 "metadata": {
  "language_info": {
   "codemirror_mode": {
    "name": "ipython",
    "version": 2
   },
   "file_extension": ".py",
   "mimetype": "text/x-python",
   "name": "python",
   "nbconvert_exporter": "python",
   "pygments_lexer": "ipython2",
   "version": "2.7.6"
  },
  "kernelspec": {
   "name": "python3",
   "language": "python",
   "display_name": "Python 3"
  },
  "pycharm": {
   "stem_cell": {
    "cell_type": "raw",
    "source": [],
    "metadata": {
     "collapsed": false
    }
   }
  }
 },
 "nbformat": 4,
 "nbformat_minor": 0
}