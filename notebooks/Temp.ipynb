{
 "cells": [
  {
   "cell_type": "code",
   "execution_count": 17,
   "metadata": {
    "collapsed": true,
    "pycharm": {
     "is_executing": false
    }
   },
   "outputs": [],
   "source": [
    "from sklearn.datasets import fetch_20newsgroups\n",
    "import pandas as pd\n",
    "from chitti import pprint"
   ]
  },
  {
   "cell_type": "code",
   "execution_count": null,
   "outputs": [],
   "source": [
    "\n",
    "def twenty_newsgroup_to_csv():\n",
    "    newsgroups_train = fetch_20newsgroups(subset='train', remove=('headers', 'footers', 'quotes'))\n",
    "\n",
    "    df = pd.DataFrame([newsgroups_train.data, newsgroups_train.target.tolist()]).T\n",
    "    df.columns = ['text', 'target']\n",
    "\n",
    "    targets = pd.DataFrame( newsgroups_train.target_names)\n",
    "    targets.columns=['title']\n",
    "\n",
    "    out = pd.merge(df, targets, left_on='target', right_index=True)\n",
    "    out['date'] = pd.to_datetime('now')\n",
    "    out.to_csv('20_newsgroup.csv')\n",
    "    \n",
    "twenty_newsgroup_to_csv()"
   ],
   "metadata": {
    "collapsed": false,
    "pycharm": {
     "name": "#%%\n"
    }
   }
  },
  {
   "cell_type": "code",
   "execution_count": 3,
   "outputs": [
    {
     "name": "stdout",
     "text": [
      "(11314, 5)\n"
     ],
     "output_type": "stream"
    }
   ],
   "source": [
    "df = pd.read_csv('20_newsgroup.csv')\n",
    "print(df.shape)"
   ],
   "metadata": {
    "collapsed": false,
    "pycharm": {
     "name": "#%%\n",
     "is_executing": false
    }
   }
  },
  {
   "cell_type": "code",
   "execution_count": 4,
   "outputs": [
    {
     "data": {
      "text/plain": "   Unnamed: 0                                               text  target  \\\n0           0  I was wondering if anyone out there could enli...       7   \n1          17  I recently posted an article asking what kind ...       7   \n2          29  \\nIt depends on your priorities.  A lot of peo...       7   \n3          56  an excellent automatic can be found in the sub...       7   \n4          64  : Ford and his automobile.  I need information...       7   \n\n       title                        date  \n0  rec.autos  2019-07-05 05:41:31.017224  \n1  rec.autos  2019-07-05 05:41:31.017224  \n2  rec.autos  2019-07-05 05:41:31.017224  \n3  rec.autos  2019-07-05 05:41:31.017224  \n4  rec.autos  2019-07-05 05:41:31.017224  ",
      "text/html": "<div>\n<style scoped>\n    .dataframe tbody tr th:only-of-type {\n        vertical-align: middle;\n    }\n\n    .dataframe tbody tr th {\n        vertical-align: top;\n    }\n\n    .dataframe thead th {\n        text-align: right;\n    }\n</style>\n<table border=\"1\" class=\"dataframe\">\n  <thead>\n    <tr style=\"text-align: right;\">\n      <th></th>\n      <th>Unnamed: 0</th>\n      <th>text</th>\n      <th>target</th>\n      <th>title</th>\n      <th>date</th>\n    </tr>\n  </thead>\n  <tbody>\n    <tr>\n      <th>0</th>\n      <td>0</td>\n      <td>I was wondering if anyone out there could enli...</td>\n      <td>7</td>\n      <td>rec.autos</td>\n      <td>2019-07-05 05:41:31.017224</td>\n    </tr>\n    <tr>\n      <th>1</th>\n      <td>17</td>\n      <td>I recently posted an article asking what kind ...</td>\n      <td>7</td>\n      <td>rec.autos</td>\n      <td>2019-07-05 05:41:31.017224</td>\n    </tr>\n    <tr>\n      <th>2</th>\n      <td>29</td>\n      <td>\\nIt depends on your priorities.  A lot of peo...</td>\n      <td>7</td>\n      <td>rec.autos</td>\n      <td>2019-07-05 05:41:31.017224</td>\n    </tr>\n    <tr>\n      <th>3</th>\n      <td>56</td>\n      <td>an excellent automatic can be found in the sub...</td>\n      <td>7</td>\n      <td>rec.autos</td>\n      <td>2019-07-05 05:41:31.017224</td>\n    </tr>\n    <tr>\n      <th>4</th>\n      <td>64</td>\n      <td>: Ford and his automobile.  I need information...</td>\n      <td>7</td>\n      <td>rec.autos</td>\n      <td>2019-07-05 05:41:31.017224</td>\n    </tr>\n  </tbody>\n</table>\n</div>"
     },
     "metadata": {},
     "output_type": "execute_result",
     "execution_count": 4
    }
   ],
   "source": [
    "df.head(5)"
   ],
   "metadata": {
    "collapsed": false,
    "pycharm": {
     "name": "#%%\n",
     "is_executing": false
    }
   }
  },
  {
   "cell_type": "code",
   "execution_count": 5,
   "outputs": [],
   "source": [
    "df['text'] = df['text'].str.lower()"
   ],
   "metadata": {
    "collapsed": false,
    "pycharm": {
     "name": "#%%\n",
     "is_executing": false
    }
   }
  },
  {
   "cell_type": "code",
   "execution_count": 15,
   "outputs": [],
   "source": [
    "import re\n",
    "def preprocess(text):\n",
    "    if isinstance(text, float):\n",
    "        return ''\n",
    "    text  = text.replace('\\n', ' ')\n",
    "    text = re.sub('[!\\\"#$%&\\'()*+,^_`{|}~\\-/:;<=>?@[\\\\]]', r' ', text)\n",
    "    text = re.sub('[“”]', r' ', text)\n",
    "    \n",
    "    text = ''.join(text)\n",
    "    text = re.sub(' +',' ',text)\n",
    "    text = text.strip()\n",
    "    return text\n",
    "\n",
    "df['text_no_punc'] = df['text'].apply(preprocess)\n"
   ],
   "metadata": {
    "collapsed": false,
    "pycharm": {
     "name": "#%%\n",
     "is_executing": false
    }
   }
  },
  {
   "cell_type": "code",
   "execution_count": 18,
   "outputs": [
    {
     "name": "stdout",
     "text": [
      "i was wondering if anyone out there could enlighten me on this car i saw the other day. it was a 2 door sports car looked to be from the late 60s early 70s. it was called a bricklin. the doors were really small. in addition the front bumper was separate from the rest of the body. this is all i know. if anyone can tellme a model name engine specs years of production where this car is made history or whatever info you have on this funky looking car please e mail.\n\ni recently posted an article asking what kind of rates single male drivers under 25 yrs old were paying on performance cars. here s a summary of the replies i received. i m not under 25 anymore but is 27 close enough . 1992 dodge stealth rt twin turbo 300hp model . no tickets no accidents own a house have taken defensive driving 1 airbag abs security alarm single. 1500 year 500 decut. state farm insurance this includes the additional 100 for the 1 000 000 umbrella policy over my car and house the base policy is the standard 100 000 100 000 300 000 policy required in de. after 2nd defensive driving course it will be 5 less. i bought the car in september 1992. the company i was with never had and accident or ticket in 11 years quoted me 2 500. hope this helps. steve flynn university of delaware 45 kevin hope i remembered your name correctly ... you asked about insurance for performance cars. well last year i was in a similar situation before i bought my car and made the same inquiry as you. age 24 then and now car 1992 eagle talon tsi awd driving record clean state illinois cost 820 6 mos. i turn 25 in may and the insurance goes down to 520 6 mos. also i m single and that incurs a higher rate with my company. i ve got a couple other friends w awds and they pay more than i do different ins. companies also so maybe i m just lucky. hope the info helps. dan dans jdc.gss.mot.com motorola cellular subscriber group 38 usa cc i m 23 live in norman oklahoma drive an 89 thunderbird sc have never made a claim against my insurance though i have been hit several times by negligent drivers who couldn t see stop signs or were fiddling with their radios and i have had three moving violations in the last 18 months one for going 85 in a 55 one for failure to clear an intersection i still say the damn light was yellow and one for going 35 in a 25 which didn t go on my record . my rates from state farm with a passive restraint deduction on liability 500 deductible comprehensive and 500 deductible collision are roughly 1300 year. i was paying just over 1100 year for a 92 escort lx. \t\t\t\tjames james p. callison microcomputer coordinator u of oklahoma law center callison uokmax.ecn.uoknor.edu \\ callison aardvark.ucs.uoknor.edu disclaimer i m not an engineer but i play one at work... \t\tthe forecast calls for thunder... 89 t bird sc it s a hell of a thing killing a man. you take away all he has \tand all he s ever gonna have. \t\t\t will munny unforgiven 61 i am beyond the under 25 age group but i have an experience a few years ago that might be interesting to you. i owned a 1985 toyota celica gt. i decided to buy myself a gift a more exotic car. front runners included the toyota supra turbo and the porsche 924 1987 model years . i narrowed it down to those two. i liked the simplicity and handling and snob appeal too of driving a porsche. the supra turbo was less money and had more features and performance almost a personal luxury car. it had better acceleration and a higher top speed than the 924. i was almost ready to give in to a buying impulse for the 924 but i decided to stop by my insurance agent s office on the way. i asked about what would happen to my rate with either car. if you buy the supra your rate classification will be the same as the celica the 85 celica was considered a subcompact and for that year was rated as one of the safest cars with a slight increase because the car will be 2 years newer. our lower risk division will continue to handle your account. if you buy the porsche 924 we ll have to change you to the standard higher rate company and your rate will double. and if you go with a 944 it s another story again we ll cover the rest of this year but cancel you after that. but the supra is much faster than the 924 and the 924 is actually faster than the standard 944. that doens t make sense. that s what the book says. we don t insure corvettes either. for some reason the underwriters consider supras and their drivers as very traditional and conservative. i eventually went with the supra for a number of reasons. the porsche dealer had a nice salesman to get me interested but a tough high pressure guy in the back room. at equal monthly payments it would have taken a year longer to pay for the porsche plus its higher insurance. i concluded that the high insurance was related to probability of auto theft. \\ \\ everyone s entitled to my opinion. \\ \\ \\ \\ \\\\ goldberg oasys.dt.navy.mil imagination is more important than knowledge. albert einstein 32 i live in idaho. when i was 26 many years ago 10 years i bought a trans am new . insurance was about 1300 year. when i turned 26 it immediately dropped to 460 year. i had not had any accidents before or after this was strictly an age change. that same rate stayed pretty much the same until i sold the car 2 years ago. my f 150 pickup is about 80 year less. the real amazing thing is that when i woke up at age 25 i felt so much more responsible than i was before... wes 21 for your information california male single under 25 no moving violation alfa spider 2000 year what a bargain 28 let s see i m 24 single male clean driving record. i have a 92 vw corrado vr6. i live in san jose california. i pay 1500 a year through allstate. a good deal if you ask me. i was thinking about getting a talon but i think the insurance is higher for a turbo sports car vs a v6 w 27 1986 honda crx si clean record in a small new mexico town was around 800 per year age 24. nearby city rates were 1.5x 2x higher than where i ve got mine insured. ..robert robert stack institute of transportation studies univ of california irvine stack translab.its.uci.edu 92 mazda protege lx 37 1300 per year 1992 saturn sc 21 years old state new mexico insurance state farm. 64 here is my info car 89 toyota celica st insurance co farmer s insurance yearly insurance 2028 age 24 date of license oct 14 1992 residence mountain view california no moving violations for now atleast hope this helps. please post a summary if possible. vijay vijay anisetti email anisetti informix.com apt 415 962 0320 off 415 926 6547 38 single 24 years old eagle talon turbo awd 1200 full cover reasonable liability no tickets no violations no accidents... knock on wood... mass \tone thing that makes a huge difference in mass is the town you live in. i m personally in one of the best towns within reasonable distance of boston. if i moved to the absolute best it would go down to about 1150 if i moved to the worst it would be 2000 .. \talso one accident and a couple of tickets would probably add another 600... \t rv 43 i have a 1990 mitsubishi eclipse turbo awd am 23 years old and have no tickets that went on my record. i live in illinois just outside of chicago and pay 1560 a year with full coverage at state farm. i did get a small discount because of my alarm system 30 a year . i only live 15 miles from chicago but if i actually lived in the city the price would be about 2000 a year. 41 i m over 25 but in case you re interested anyway i m insuring a 93 sho for 287 6 month. thats 100k personal 300k total 100k property with 250 deductible glass and towing state farm. 39 unless you are under 20 or have been driving for less than 5 years i think you are being seriously ripped off. i don t have one of the performance cars you listed but if your record is clean then you should not be paying over 2k. did you try calling all the insurance dealers you could find although rates are supposed to be standardized i ve found that most places i initially call give me some ridiculously high quote and finaly i hit one that is much lower. also i have changed insurance companies when the rate went up at renewal no accidents tickets car gets older to maintain a low rate. you always have to be careful when it comes to insurance companies 8 .\n\nit depends on your priorities. a lot of people put higher priorities on gas mileage and cost than on safety buying unsafe econoboxes instead of volvos. i personally take a middle ground the only thing i really look for is a three point seatbelt and 5 mph bumpers. i figure that 30mph collisions into brick walls aren t common enough for me to spend that much extra money for protection but there are lots of low speed collisions that do worry me.\n\nan excellent automatic can be found in the subaru legacy. it switches to sport mode when the electronics figure it not when the driver sets the switch.. which is the proper way to do it imo. so what does sport mode entail several things 1 revving to red line or to the rev limiter in the case of the legacy 2 delayed upshifts. i.e. if you lift off briefly it will remain in the \tlow gear. this is handy if you are charging through corners and \twould like to do without the distraction of upshifts when there s \tanother curve approaching 3 part throttle downshifts based on the speed at which the pedal is \tdepressed rather than the position of the pedal. modern \telectronics can measure this very easily and switch to sport mode. \tthis is wonderful if you want to charge through a green light about \tto turn red. my audi senses this very well and can downshift on as \tlittle as half throttle if my right foot is fast enough. also i think that a smart automatic can deliver better gas mileage than a dumb driver with a stick all else being equal.. remember that the idea of a stick being more economical than an automatic makes a big assumption that the driver is smart enough to know what gear to use for each situation.. how many times have you ridden with an inattentive driver cruising on the highway at 55 65 in 4th gear of a 5 speed how many of people who drive manuals really know what the best gear to use is for every conceivable situation i m sure there will be some who know but i suspect that a chip controlled automatic with all possible scenario ratio combinations stored in rom is likely to do better. i can also say that all my previous assumptions were proved wrong after i got a car with instantaneous mpg readout... high gear low revs and wide open throttle is more economical than low gear high revs and small throttle opening. the explanation is quite simple if one sits down to think about it but not that obvious at first sight.\n\nford and his automobile. i need information on whether ford is partially responsible for all of the car accidents and the depletion of the ozone layer. also any other additional information will be greatly appreciated. thanks. sssssoooooooooooo its all his fault thank god louis chevrolet is innocent and that guy diesel he otto feel guilty\n\n"
     ],
     "output_type": "stream"
    }
   ],
   "source": [
    "pprint(df['text_no_punc'].tolist()[:5])"
   ],
   "metadata": {
    "collapsed": false,
    "pycharm": {
     "name": "#%%\n",
     "is_executing": false
    }
   }
  },
  {
   "cell_type": "code",
   "execution_count": null,
   "outputs": [],
   "source": [
    "\n"
   ],
   "metadata": {
    "collapsed": false,
    "pycharm": {
     "name": "#%%\n"
    }
   }
  }
 ],
 "metadata": {
  "language_info": {
   "codemirror_mode": {
    "name": "ipython",
    "version": 2
   },
   "file_extension": ".py",
   "mimetype": "text/x-python",
   "name": "python",
   "nbconvert_exporter": "python",
   "pygments_lexer": "ipython2",
   "version": "2.7.6"
  },
  "kernelspec": {
   "name": "python3",
   "language": "python",
   "display_name": "Python 3"
  },
  "pycharm": {
   "stem_cell": {
    "cell_type": "raw",
    "source": [],
    "metadata": {
     "collapsed": false
    }
   }
  }
 },
 "nbformat": 4,
 "nbformat_minor": 0
}